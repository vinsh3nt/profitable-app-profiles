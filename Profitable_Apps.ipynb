{
 "cells": [
  {
   "cell_type": "markdown",
   "metadata": {},
   "source": [
    "# Profitable App Profiles\n",
    "\n",
    "## Intro\n",
    "The aim of this project is to analyze data from the Apple App store and Google Play store to find profitable app profiles. The goal is to identify which apps could be more likely to attract more users. We are interested specifically in free apps. The idea is that by doing this analysis we can determine what kind of app to develop that could have a chance of doing well on both the Apple and Android app stores.\n",
    "\n",
    "## Opening the Files\n",
    "\n",
    "As of September 2018 there were approximately 2 million iOS apps and 2.1 million Android apps on their respective stores. We will be looking at a sample of this as analyzing over 2 million data points is a bit overkill.\n",
    "\n",
    "The datasets we will be using are:\n",
    "* [A data set](https://www.kaggle.com/lava18/google-play-store-apps) with data on ~10,000 Android apps. The data was scraped in August 2018. The dataset can be downloaded directly [here](https://dq-content.s3.amazonaws.com/350/googleplaystore.csv).\n",
    "* [A data set](https://www.kaggle.com/ramamet4/app-store-apple-data-set-10k-apps) with data on ~7000 iOS apps, the data was scraped in July 2017. It can be downloaded [here](https://dq-content.s3.amazonaws.com/350/AppleStore.csv).\n",
    "\n",
    "We will start by opening the datasets for exploration."
   ]
  },
  {
   "cell_type": "code",
   "execution_count": 1,
   "metadata": {},
   "outputs": [],
   "source": [
    "from csv import reader\n",
    "\n",
    "# Google play data\n",
    "opened_file = open('googleplaystore.csv', encoding=\"utf8\")\n",
    "read_file = reader(opened_file)\n",
    "android = list(read_file)\n",
    "android_header = android[0]\n",
    "android = android[1:]\n",
    "\n",
    "# Apple app store data\n",
    "opened_file = open('AppleStore.csv', encoding=\"utf8\")\n",
    "read_file = reader(opened_file)\n",
    "ios = list(read_file)\n",
    "ios_header = ios[0]\n",
    "ios = ios[1:]"
   ]
  },
  {
   "cell_type": "markdown",
   "metadata": {},
   "source": [
    "Because we'll want to explore the datasets several times we can write a function to make this easier for us."
   ]
  },
  {
   "cell_type": "code",
   "execution_count": 2,
   "metadata": {},
   "outputs": [],
   "source": [
    "def explore_data(dataset, start, end, rows_and_columns=False):\n",
    "    dataset_slice = dataset[start:end]    \n",
    "    for row in dataset_slice:\n",
    "        print(row)\n",
    "        print('\\n') # adds a new (empty) line after each row\n",
    "\n",
    "    if rows_and_columns:\n",
    "        print('Number of rows:', len(dataset))\n",
    "        print('Number of columns:', len(dataset[0]))"
   ]
  },
  {
   "cell_type": "markdown",
   "metadata": {},
   "source": [
    "The above function takes in four parameters.\n",
    "* dataset which is expected to be a 2D list\n",
    "* start and end which are expected to be integers and represent the starting and the ending indices of a slice from the dataset\n",
    "* rows_and_columns which is expected to be a boolean and has false as a default argument.\n",
    "\n",
    "It slices the dataset according to start and end\n",
    "Loops through the slice, and for each iteration, prints a row and adds a new line after that row.\n",
    "If rows_and_columns is True then it will print the number of rows and columns.\n",
    "* dataset shouldn't have a header row, otherwise this function will print the wrong number of rows\n",
    "\n",
    "Lets take a look at the Google Play Store data."
   ]
  },
  {
   "cell_type": "code",
   "execution_count": 3,
   "metadata": {},
   "outputs": [
    {
     "name": "stdout",
     "output_type": "stream",
     "text": [
      "['App', 'Category', 'Rating', 'Reviews', 'Size', 'Installs', 'Type', 'Price', 'Content Rating', 'Genres', 'Last Updated', 'Current Ver', 'Android Ver']\n",
      "\n",
      "\n",
      "['Photo Editor & Candy Camera & Grid & ScrapBook', 'ART_AND_DESIGN', '4.1', '159', '19M', '10,000+', 'Free', '0', 'Everyone', 'Art & Design', 'January 7, 2018', '1.0.0', '4.0.3 and up']\n",
      "\n",
      "\n",
      "['Coloring book moana', 'ART_AND_DESIGN', '3.9', '967', '14M', '500,000+', 'Free', '0', 'Everyone', 'Art & Design;Pretend Play', 'January 15, 2018', '2.0.0', '4.0.3 and up']\n",
      "\n",
      "\n",
      "['U Launcher Lite – FREE Live Cool Themes, Hide Apps', 'ART_AND_DESIGN', '4.7', '87510', '8.7M', '5,000,000+', 'Free', '0', 'Everyone', 'Art & Design', 'August 1, 2018', '1.2.4', '4.0.3 and up']\n",
      "\n",
      "\n",
      "Number of rows: 10841\n",
      "Number of columns: 13\n"
     ]
    }
   ],
   "source": [
    "print(android_header)\n",
    "print('\\n')\n",
    "explore_data(android, 0, 3, True)"
   ]
  },
  {
   "cell_type": "markdown",
   "metadata": {},
   "source": [
    "It appears that the columns that could help with our objective are\n",
    "* App\n",
    "* Category\n",
    "* Rating\n",
    "* Installs\n",
    "* Type\n",
    "* Price\n",
    "* Genres\n",
    "\n",
    "Now lets look at the Apple Store data."
   ]
  },
  {
   "cell_type": "code",
   "execution_count": 4,
   "metadata": {},
   "outputs": [
    {
     "name": "stdout",
     "output_type": "stream",
     "text": [
      "['id', 'track_name', 'size_bytes', 'currency', 'price', 'rating_count_tot', 'rating_count_ver', 'user_rating', 'user_rating_ver', 'ver', 'cont_rating', 'prime_genre', 'sup_devices.num', 'ipadSc_urls.num', 'lang.num', 'vpp_lic']\n",
      "\n",
      "\n",
      "['284882215', 'Facebook', '389879808', 'USD', '0.0', '2974676', '212', '3.5', '3.5', '95.0', '4+', 'Social Networking', '37', '1', '29', '1']\n",
      "\n",
      "\n",
      "['389801252', 'Instagram', '113954816', 'USD', '0.0', '2161558', '1289', '4.5', '4.0', '10.23', '12+', 'Photo & Video', '37', '0', '29', '1']\n",
      "\n",
      "\n",
      "['529479190', 'Clash of Clans', '116476928', 'USD', '0.0', '2130805', '579', '4.5', '4.5', '9.24.12', '9+', 'Games', '38', '5', '18', '1']\n",
      "\n",
      "\n",
      "Number of rows: 7197\n",
      "Number of columns: 16\n"
     ]
    }
   ],
   "source": [
    "print(ios_header)\n",
    "print('\\n')\n",
    "explore_data(ios, 0, 3, True)"
   ]
  },
  {
   "cell_type": "markdown",
   "metadata": {},
   "source": [
    "The columns of interest appear to be\n",
    "* track_name\n",
    "* currency\n",
    "* price\n",
    "* rating_count_tot\n",
    "* rating_count_ver\n",
    "* prime_genre"
   ]
  },
  {
   "cell_type": "markdown",
   "metadata": {},
   "source": [
    "## Data Cleaning\n",
    "We've previously established we are only interested in the apps which are free so we will need to clean our data to get only the appropriate apps. We also want to make sure our dataset consists of English apps only to make our analysis simpler for us. Naturally we also want to ensure that the dataset is free from any errors.\n",
    "\n",
    "The Google Play dataset has a [dedicated discussion section](https://www.kaggle.com/lava18/google-play-store-apps/discussion), in that discussion section we can see that [one of the discussions](https://www.kaggle.com/lava18/google-play-store-apps/discussion/66015) describes an error for a certain row.\n",
    "\n",
    "At row 10472 the category appears to be missing, let's verify that."
   ]
  },
  {
   "cell_type": "code",
   "execution_count": 5,
   "metadata": {},
   "outputs": [
    {
     "name": "stdout",
     "output_type": "stream",
     "text": [
      "['App', 'Category', 'Rating', 'Reviews', 'Size', 'Installs', 'Type', 'Price', 'Content Rating', 'Genres', 'Last Updated', 'Current Ver', 'Android Ver']\n",
      "\n",
      "\n",
      "['Life Made WI-Fi Touchscreen Photo Frame', '1.9', '19', '3.0M', '1,000+', 'Free', '0', 'Everyone', '', 'February 11, 2018', '1.0.19', '4.0 and up']\n",
      "\n",
      "\n",
      "['Photo Editor & Candy Camera & Grid & ScrapBook', 'ART_AND_DESIGN', '4.1', '159', '19M', '10,000+', 'Free', '0', 'Everyone', 'Art & Design', 'January 7, 2018', '1.0.0', '4.0.3 and up']\n"
     ]
    }
   ],
   "source": [
    "print(android_header)\n",
    "print('\\n')\n",
    "print(android[10472])\n",
    "print('\\n')\n",
    "print(android[0]) # Print another row to compare with"
   ]
  },
  {
   "cell_type": "markdown",
   "metadata": {},
   "source": [
    "That row does appear to be missing the category measure so we will simply remove it."
   ]
  },
  {
   "cell_type": "code",
   "execution_count": 6,
   "metadata": {},
   "outputs": [
    {
     "name": "stdout",
     "output_type": "stream",
     "text": [
      "10841\n",
      "10840\n"
     ]
    }
   ],
   "source": [
    "print(len(android))\n",
    "del android[10472]  # Make sure to only run this once\n",
    "print(len(android))"
   ]
  },
  {
   "cell_type": "markdown",
   "metadata": {},
   "source": [
    "Again looking at the discussions section on Kaggle we can also see that there are reports of apps haivng duplicate entries. For example Instagram was reported as having duplicate entries."
   ]
  },
  {
   "cell_type": "code",
   "execution_count": 7,
   "metadata": {},
   "outputs": [
    {
     "name": "stdout",
     "output_type": "stream",
     "text": [
      "['Instagram', 'SOCIAL', '4.5', '66577313', 'Varies with device', '1,000,000,000+', 'Free', '0', 'Teen', 'Social', 'July 31, 2018', 'Varies with device', 'Varies with device']\n",
      "['Instagram', 'SOCIAL', '4.5', '66577446', 'Varies with device', '1,000,000,000+', 'Free', '0', 'Teen', 'Social', 'July 31, 2018', 'Varies with device', 'Varies with device']\n",
      "['Instagram', 'SOCIAL', '4.5', '66577313', 'Varies with device', '1,000,000,000+', 'Free', '0', 'Teen', 'Social', 'July 31, 2018', 'Varies with device', 'Varies with device']\n",
      "['Instagram', 'SOCIAL', '4.5', '66509917', 'Varies with device', '1,000,000,000+', 'Free', '0', 'Teen', 'Social', 'July 31, 2018', 'Varies with device', 'Varies with device']\n"
     ]
    }
   ],
   "source": [
    "for app in android:\n",
    "    name = app[0]\n",
    "    if name == 'Instagram':\n",
    "        print(app)"
   ]
  },
  {
   "cell_type": "markdown",
   "metadata": {},
   "source": [
    "In order to find all instances of apps with duplicate entries we can use the following code."
   ]
  },
  {
   "cell_type": "code",
   "execution_count": 8,
   "metadata": {},
   "outputs": [
    {
     "name": "stdout",
     "output_type": "stream",
     "text": [
      "Number of duplicate apps: 1181\n"
     ]
    }
   ],
   "source": [
    "duplicate_apps = []\n",
    "unique_apps  = []\n",
    "\n",
    "for app in android:\n",
    "    name = app[0]\n",
    "    if name in unique_apps:\n",
    "        duplicate_apps.append(name)\n",
    "    else:\n",
    "        unique_apps.append(name)\n",
    "        \n",
    "print('Number of duplicate apps:', len(duplicate_apps))"
   ]
  },
  {
   "cell_type": "markdown",
   "metadata": {},
   "source": [
    "Above, we:\n",
    "* Created two lists, one for storing the name of duplicate apps and the other for storing the names of unique apps.\n",
    "* Looped through the android dataset, and for each iteration:\n",
    "    * Saved the app name to a variable named 'name'\n",
    "    \n",
    "    * If name was already in the unique_apps list then we append name to the duplicate_apps list.\n",
    "    * Else we appended it to the unique_apps list.\n",
    "    \n",
    "Now comes the question of how we will be removing these duplicate entries from the dataset. We could just remove these indiscriminately but we could probably find a better way. If we examine the rows we printed using Instagram as an example we can see that the number of reviews differs for each entry. This means we can keep the row with the highest number of reviews since that would be the most recent data for that entry.\n",
    "\n",
    "To remove the duplicates, we will:\n",
    "* Create a dictionary, where each key is a unique app name the corresponding dictionary value is the highest number of reviews of that app.\n",
    "* Use the information stored in the dictionary to create a new dataset, this dataset will only have one entry per app"
   ]
  },
  {
   "cell_type": "code",
   "execution_count": 9,
   "metadata": {},
   "outputs": [],
   "source": [
    "reviews_max = {}\n",
    "\n",
    "for app in android:\n",
    "    name = app[0]\n",
    "    n_reviews = float(app[3])\n",
    "    if name in reviews_max and reviews_max[name] < n_reviews:\n",
    "        reviews_max[name] = n_reviews\n",
    "    elif name not in reviews_max:\n",
    "        reviews_max[name] = n_reviews"
   ]
  },
  {
   "cell_type": "markdown",
   "metadata": {},
   "source": [
    "We know from earlier that we have 1181 duplicate apps so our dictionary should be the length of the original dataset - 1181."
   ]
  },
  {
   "cell_type": "code",
   "execution_count": 10,
   "metadata": {},
   "outputs": [
    {
     "name": "stdout",
     "output_type": "stream",
     "text": [
      "Expected Length:  9659\n",
      "Actual Length:  9659\n"
     ]
    }
   ],
   "source": [
    "print('Expected Length: ', len(android) - 1181)\n",
    "print('Actual Length: ', len(reviews_max))"
   ]
  },
  {
   "cell_type": "markdown",
   "metadata": {},
   "source": [
    "Now we can use this dictionary to actually remove the duplicate rows."
   ]
  },
  {
   "cell_type": "code",
   "execution_count": 11,
   "metadata": {},
   "outputs": [],
   "source": [
    "android_clean = []\n",
    "already_added = []\n",
    "\n",
    "for app in android:\n",
    "    name = app[0]\n",
    "    n_reviews = float(app[3])\n",
    "    if (reviews_max[name] == n_reviews) and (name not in already_added):\n",
    "        android_clean.append(app)\n",
    "        already_added.append(name)"
   ]
  },
  {
   "cell_type": "markdown",
   "metadata": {},
   "source": [
    "Here we create two lists, one to store the cleaned dataset and the other is to store the names of the apps that we have already included in the dataset.\n",
    "\n",
    "We loop through the dataset and if n_reviews is the same as the number of maximum reviews of the app name (found in the reviews_max dictionary) and name is not already in the list already_added then we append the entire row to the android_clean list, and then we also append the name of the app to the already_added list to keep track of which apps we have already included."
   ]
  },
  {
   "cell_type": "code",
   "execution_count": 12,
   "metadata": {},
   "outputs": [
    {
     "name": "stdout",
     "output_type": "stream",
     "text": [
      "['Photo Editor & Candy Camera & Grid & ScrapBook', 'ART_AND_DESIGN', '4.1', '159', '19M', '10,000+', 'Free', '0', 'Everyone', 'Art & Design', 'January 7, 2018', '1.0.0', '4.0.3 and up']\n",
      "\n",
      "\n",
      "['U Launcher Lite – FREE Live Cool Themes, Hide Apps', 'ART_AND_DESIGN', '4.7', '87510', '8.7M', '5,000,000+', 'Free', '0', 'Everyone', 'Art & Design', 'August 1, 2018', '1.2.4', '4.0.3 and up']\n",
      "\n",
      "\n",
      "['Sketch - Draw & Paint', 'ART_AND_DESIGN', '4.5', '215644', '25M', '50,000,000+', 'Free', '0', 'Teen', 'Art & Design', 'June 8, 2018', 'Varies with device', '4.2 and up']\n",
      "\n",
      "\n",
      "Number of rows: 9659\n",
      "Number of columns: 13\n"
     ]
    }
   ],
   "source": [
    "# Verifying our above work is correct, our data should have 9659 rows\n",
    "\n",
    "explore_data(android_clean, 0, 3, True)"
   ]
  },
  {
   "cell_type": "markdown",
   "metadata": {},
   "source": [
    "Now we check to see if there are any duplicates in the iOS dataset."
   ]
  },
  {
   "cell_type": "code",
   "execution_count": 13,
   "metadata": {},
   "outputs": [
    {
     "name": "stdout",
     "output_type": "stream",
     "text": [
      "Number of duplicate apps: 0\n"
     ]
    }
   ],
   "source": [
    "duplicate_ios = []\n",
    "unique_ios  = []\n",
    "\n",
    "for app in ios:\n",
    "    name = app[1]\n",
    "    if name in unique_ios:\n",
    "        duplicate_apps.append(name)\n",
    "    else:\n",
    "        unique_apps.append(name)\n",
    "        \n",
    "print('Number of duplicate apps:', len(duplicate_ios))"
   ]
  },
  {
   "cell_type": "markdown",
   "metadata": {},
   "source": [
    "There appear to be no duplicates so we can move on to the next step."
   ]
  },
  {
   "cell_type": "markdown",
   "metadata": {},
   "source": [
    "## Removal of Non-English Apps\n",
    "\n",
    "We are not interested in keeping any apps with Non-English names since we as an English speaker will not really be able to analyze them. To do this we will make use of ASCII, if a character falls out of the range of 0-127 (the numbers that correspond to the characters we use in the English language) then we will know that the app is not an English app.\n",
    "\n",
    "To do so we will first write a function that checks whether an app has an English title or not."
   ]
  },
  {
   "cell_type": "code",
   "execution_count": 14,
   "metadata": {},
   "outputs": [
    {
     "name": "stdout",
     "output_type": "stream",
     "text": [
      "True\n",
      "False\n"
     ]
    }
   ],
   "source": [
    "def is_eng(a_string):\n",
    "    for character in a_string:\n",
    "        if ord(character) > 127:\n",
    "            return False\n",
    "    return True\n",
    "\n",
    "# Testing\n",
    "print(is_eng('Instagram'))\n",
    "print(is_eng('爱奇艺PPS -《欢乐颂2》电视剧热播'))"
   ]
  },
  {
   "cell_type": "markdown",
   "metadata": {},
   "source": [
    "We know this function works but what about apps with English titles and special characters?"
   ]
  },
  {
   "cell_type": "code",
   "execution_count": 15,
   "metadata": {},
   "outputs": [
    {
     "name": "stdout",
     "output_type": "stream",
     "text": [
      "False\n",
      "False\n"
     ]
    }
   ],
   "source": [
    "print(is_eng('Docs To Go™ Free Office Suite'))\n",
    "print(is_eng('Instachat 😜'))"
   ]
  },
  {
   "cell_type": "markdown",
   "metadata": {},
   "source": [
    "Because these emoji's have ASCII values greater than 127 our function treats them as non-English. This means if we were to use this function we would actually be ignoring important data points. To prevent this from happening we can modify our original function."
   ]
  },
  {
   "cell_type": "code",
   "execution_count": 16,
   "metadata": {},
   "outputs": [],
   "source": [
    "def is_eng(a_string):\n",
    "    counter = 0\n",
    "    for character in a_string:\n",
    "        if ord(character) > 127:\n",
    "            counter += 1\n",
    "    if counter > 3:\n",
    "        return False\n",
    "    else:\n",
    "        return True"
   ]
  },
  {
   "cell_type": "markdown",
   "metadata": {},
   "source": [
    "The above function will deem an app as non-English if there are greater than 3 characters that aren't English characters. While not a perfect solution it will work for us."
   ]
  },
  {
   "cell_type": "code",
   "execution_count": 17,
   "metadata": {},
   "outputs": [
    {
     "name": "stdout",
     "output_type": "stream",
     "text": [
      "['Photo Editor & Candy Camera & Grid & ScrapBook', 'ART_AND_DESIGN', '4.1', '159', '19M', '10,000+', 'Free', '0', 'Everyone', 'Art & Design', 'January 7, 2018', '1.0.0', '4.0.3 and up']\n",
      "\n",
      "\n",
      "['U Launcher Lite – FREE Live Cool Themes, Hide Apps', 'ART_AND_DESIGN', '4.7', '87510', '8.7M', '5,000,000+', 'Free', '0', 'Everyone', 'Art & Design', 'August 1, 2018', '1.2.4', '4.0.3 and up']\n",
      "\n",
      "\n",
      "['Sketch - Draw & Paint', 'ART_AND_DESIGN', '4.5', '215644', '25M', '50,000,000+', 'Free', '0', 'Teen', 'Art & Design', 'June 8, 2018', 'Varies with device', '4.2 and up']\n",
      "\n",
      "\n",
      "Number of rows: 9614\n",
      "Number of columns: 13\n",
      "\n",
      "\n",
      "['284882215', 'Facebook', '389879808', 'USD', '0.0', '2974676', '212', '3.5', '3.5', '95.0', '4+', 'Social Networking', '37', '1', '29', '1']\n",
      "\n",
      "\n",
      "['389801252', 'Instagram', '113954816', 'USD', '0.0', '2161558', '1289', '4.5', '4.0', '10.23', '12+', 'Photo & Video', '37', '0', '29', '1']\n",
      "\n",
      "\n",
      "['529479190', 'Clash of Clans', '116476928', 'USD', '0.0', '2130805', '579', '4.5', '4.5', '9.24.12', '9+', 'Games', '38', '5', '18', '1']\n",
      "\n",
      "\n",
      "Number of rows: 6183\n",
      "Number of columns: 16\n"
     ]
    }
   ],
   "source": [
    "android_eng = []\n",
    "ios_eng = []\n",
    "\n",
    "for app in android_clean:\n",
    "    name = app[0]\n",
    "    if is_eng(name):\n",
    "        android_eng.append(app)\n",
    "        \n",
    "for app in ios:\n",
    "    name = app[1]\n",
    "    if is_eng(name):\n",
    "        ios_eng.append(app)\n",
    "        \n",
    "explore_data(android_eng, 0, 3, True)\n",
    "print('\\n')\n",
    "explore_data(ios_eng, 0, 3, True)"
   ]
  },
  {
   "cell_type": "markdown",
   "metadata": {},
   "source": [
    "## Isolating the Free Apps\n",
    "\n",
    "Now that we have the two datasets of English apps we can isolate just the free apps, we can do this by following a similar procedure to what we did just earlier."
   ]
  },
  {
   "cell_type": "code",
   "execution_count": 18,
   "metadata": {},
   "outputs": [
    {
     "name": "stdout",
     "output_type": "stream",
     "text": [
      "['Photo Editor & Candy Camera & Grid & ScrapBook', 'ART_AND_DESIGN', '4.1', '159', '19M', '10,000+', 'Free', '0', 'Everyone', 'Art & Design', 'January 7, 2018', '1.0.0', '4.0.3 and up']\n",
      "\n",
      "\n",
      "['U Launcher Lite – FREE Live Cool Themes, Hide Apps', 'ART_AND_DESIGN', '4.7', '87510', '8.7M', '5,000,000+', 'Free', '0', 'Everyone', 'Art & Design', 'August 1, 2018', '1.2.4', '4.0.3 and up']\n",
      "\n",
      "\n",
      "['Sketch - Draw & Paint', 'ART_AND_DESIGN', '4.5', '215644', '25M', '50,000,000+', 'Free', '0', 'Teen', 'Art & Design', 'June 8, 2018', 'Varies with device', '4.2 and up']\n",
      "\n",
      "\n",
      "Number of rows: 8863\n",
      "Number of columns: 13\n",
      "\n",
      "['284882215', 'Facebook', '389879808', 'USD', '0.0', '2974676', '212', '3.5', '3.5', '95.0', '4+', 'Social Networking', '37', '1', '29', '1']\n",
      "\n",
      "\n",
      "['389801252', 'Instagram', '113954816', 'USD', '0.0', '2161558', '1289', '4.5', '4.0', '10.23', '12+', 'Photo & Video', '37', '0', '29', '1']\n",
      "\n",
      "\n",
      "['529479190', 'Clash of Clans', '116476928', 'USD', '0.0', '2130805', '579', '4.5', '4.5', '9.24.12', '9+', 'Games', '38', '5', '18', '1']\n",
      "\n",
      "\n",
      "Number of rows: 3222\n",
      "Number of columns: 16\n"
     ]
    }
   ],
   "source": [
    "android_free = []\n",
    "ios_free = []\n",
    "\n",
    "for app in android_eng:\n",
    "    price = app[6]\n",
    "    if price == 'Free':\n",
    "        android_free.append(app)\n",
    "        \n",
    "for app in ios_eng:\n",
    "    price = float(app[4])\n",
    "    if price == 0.0:\n",
    "        ios_free.append(app)\n",
    "        \n",
    "explore_data(android_free, 0, 3, True)\n",
    "print()\n",
    "explore_data(ios_free, 0, 3, True)"
   ]
  },
  {
   "cell_type": "markdown",
   "metadata": {},
   "source": [
    "## Analysis\n",
    "\n",
    "Now that we have finished cleaning our data we can move on to the analysis portion. First we need to determine what kinds of apps are successful for both the Android and iPhone markets. We can begin by getting a sense of what the most common app genres are for each market.\n",
    "\n",
    "For this we will build a frequency table for the genres for each dataset.\n",
    "\n",
    "### Building the Frequency Table"
   ]
  },
  {
   "cell_type": "code",
   "execution_count": 19,
   "metadata": {},
   "outputs": [],
   "source": [
    "def freq_table(dataset, index):\n",
    "    table = {}\n",
    "    total = 0\n",
    "    for row in dataset:\n",
    "        total += 1\n",
    "        value = row[index]\n",
    "        if value in table:\n",
    "            table[value] += 1\n",
    "        else:\n",
    "            table[value] = 1\n",
    "    \n",
    "    table_percentages = {}\n",
    "    for key in table:\n",
    "        percentage = (table[key] / total) * 100\n",
    "        table_percentages[key] = percentage\n",
    "    \n",
    "    return table_percentages\n",
    "\n",
    "def display_table(dataset, index):\n",
    "    table = freq_table(dataset, index)\n",
    "    table_display = []\n",
    "    for key in table:\n",
    "        key_val_as_tuple = (table[key], key)\n",
    "        table_display.append(key_val_as_tuple)\n",
    "\n",
    "    table_sorted = sorted(table_display, reverse = True)\n",
    "    for entry in table_sorted:\n",
    "        print(entry[1], ':', entry[0])"
   ]
  },
  {
   "cell_type": "markdown",
   "metadata": {},
   "source": [
    "### Genre Sizes for the iOS and Google Play Store\n",
    "\n",
    "Let us first examine the ios dataset."
   ]
  },
  {
   "cell_type": "code",
   "execution_count": 20,
   "metadata": {},
   "outputs": [
    {
     "name": "stdout",
     "output_type": "stream",
     "text": [
      "['id', 'track_name', 'size_bytes', 'currency', 'price', 'rating_count_tot', 'rating_count_ver', 'user_rating', 'user_rating_ver', 'ver', 'cont_rating', 'prime_genre', 'sup_devices.num', 'ipadSc_urls.num', 'lang.num', 'vpp_lic']\n",
      "\n",
      "Games : 58.16263190564867\n",
      "Entertainment : 7.883302296710118\n",
      "Photo & Video : 4.9658597144630665\n",
      "Education : 3.662321539416512\n",
      "Social Networking : 3.2898820608317814\n",
      "Shopping : 2.60707635009311\n",
      "Utilities : 2.5139664804469275\n",
      "Sports : 2.1415270018621975\n",
      "Music : 2.0484171322160147\n",
      "Health & Fitness : 2.0173805090006205\n",
      "Productivity : 1.7380509000620732\n",
      "Lifestyle : 1.5828677839851024\n",
      "News : 1.3345747982619491\n",
      "Travel : 1.2414649286157666\n",
      "Finance : 1.1173184357541899\n",
      "Weather : 0.8690254500310366\n",
      "Food & Drink : 0.8069522036002483\n",
      "Reference : 0.5586592178770949\n",
      "Business : 0.5276225946617008\n",
      "Book : 0.4345127250155183\n",
      "Navigation : 0.186219739292365\n",
      "Medical : 0.186219739292365\n",
      "Catalogs : 0.12414649286157665\n"
     ]
    }
   ],
   "source": [
    "print(ios_header)\n",
    "print()\n",
    "\n",
    "display_table(ios_free, -5)"
   ]
  },
  {
   "cell_type": "markdown",
   "metadata": {},
   "source": [
    "These are the percentages of apps that make up each of the categories. Among free apps we can see that an overwhelming majority of them (58%) are games.\n",
    "\n",
    "The general impression we can take away from this are that most of the free apps are for games and fun. To me this suggests that this category is oversaturated and if we were to develop an app; it would just get lost in the sea of free gaming apps. It is also important to note that this table tells us which kind of app is most frequent, not which app sees the most users.\n",
    "\n",
    "Now lets take a look at what we can determine from the Android dataset."
   ]
  },
  {
   "cell_type": "code",
   "execution_count": 21,
   "metadata": {},
   "outputs": [
    {
     "name": "stdout",
     "output_type": "stream",
     "text": [
      "['App', 'Category', 'Rating', 'Reviews', 'Size', 'Installs', 'Type', 'Price', 'Content Rating', 'Genres', 'Last Updated', 'Current Ver', 'Android Ver']\n",
      "\n",
      "FAMILY : 18.898792733837304\n",
      "GAME : 9.725826469592688\n",
      "TOOLS : 8.462146000225657\n",
      "BUSINESS : 4.592124562789123\n",
      "LIFESTYLE : 3.9038700214374367\n",
      "PRODUCTIVITY : 3.8925871601038025\n",
      "FINANCE : 3.7007785174320205\n",
      "MEDICAL : 3.5315355974275078\n",
      "SPORTS : 3.396141261423897\n",
      "PERSONALIZATION : 3.317161232088458\n",
      "COMMUNICATION : 3.2381812027530184\n",
      "HEALTH_AND_FITNESS : 3.0802211440821394\n",
      "PHOTOGRAPHY : 2.944826808078529\n",
      "NEWS_AND_MAGAZINES : 2.798149610741284\n",
      "SOCIAL : 2.6627552747376737\n",
      "TRAVEL_AND_LOCAL : 2.335552296062281\n",
      "SHOPPING : 2.245289405393208\n",
      "BOOKS_AND_REFERENCE : 2.1437436533904997\n",
      "DATING : 1.8616721200496444\n",
      "VIDEO_PLAYERS : 1.7939749520478394\n",
      "MAPS_AND_NAVIGATION : 1.399074805370642\n",
      "FOOD_AND_DRINK : 1.241114746699763\n",
      "EDUCATION : 1.1621347173643235\n",
      "ENTERTAINMENT : 0.9590432133589079\n",
      "LIBRARIES_AND_DEMO : 0.9364774906916393\n",
      "AUTO_AND_VEHICLES : 0.9251946293580051\n",
      "HOUSE_AND_HOME : 0.8236488773552973\n",
      "WEATHER : 0.8010831546880289\n",
      "EVENTS : 0.7108202640189552\n",
      "PARENTING : 0.6544059573507841\n",
      "ART_AND_DESIGN : 0.6431230960171499\n",
      "COMICS : 0.6205573733498815\n",
      "BEAUTY : 0.5979916506826132\n"
     ]
    }
   ],
   "source": [
    "print(android_header)\n",
    "print()\n",
    "\n",
    "# Categories\n",
    "display_table(android_free, 1)"
   ]
  },
  {
   "cell_type": "code",
   "execution_count": 22,
   "metadata": {},
   "outputs": [
    {
     "name": "stdout",
     "output_type": "stream",
     "text": [
      "Tools : 8.450863138892023\n",
      "Entertainment : 6.070179397495204\n",
      "Education : 5.348076272142616\n",
      "Business : 4.592124562789123\n",
      "Productivity : 3.8925871601038025\n",
      "Lifestyle : 3.8925871601038025\n",
      "Finance : 3.7007785174320205\n",
      "Medical : 3.5315355974275078\n",
      "Sports : 3.463838429425702\n",
      "Personalization : 3.317161232088458\n",
      "Communication : 3.2381812027530184\n",
      "Action : 3.102786866749408\n",
      "Health & Fitness : 3.0802211440821394\n",
      "Photography : 2.944826808078529\n",
      "News & Magazines : 2.798149610741284\n",
      "Social : 2.6627552747376737\n",
      "Travel & Local : 2.324269434728647\n",
      "Shopping : 2.245289405393208\n",
      "Books & Reference : 2.1437436533904997\n",
      "Simulation : 2.042197901387792\n",
      "Dating : 1.8616721200496444\n",
      "Arcade : 1.8503892587160102\n",
      "Video Players & Editors : 1.771409229380571\n",
      "Casual : 1.7601263680469368\n",
      "Maps & Navigation : 1.399074805370642\n",
      "Food & Drink : 1.241114746699763\n",
      "Puzzle : 1.128286133363421\n",
      "Racing : 0.9928917973598104\n",
      "Role Playing : 0.9364774906916393\n",
      "Libraries & Demo : 0.9364774906916393\n",
      "Auto & Vehicles : 0.9251946293580051\n",
      "Strategy : 0.9026289066907368\n",
      "House & Home : 0.8236488773552973\n",
      "Weather : 0.8010831546880289\n",
      "Events : 0.7108202640189552\n",
      "Adventure : 0.6769716800180525\n",
      "Comics : 0.6092745120162473\n",
      "Beauty : 0.5979916506826132\n",
      "Art & Design : 0.5979916506826132\n",
      "Parenting : 0.4964458986799052\n",
      "Card : 0.4513144533453684\n",
      "Casino : 0.42874873067809993\n",
      "Trivia : 0.4174658693444658\n",
      "Educational;Education : 0.3949001466771973\n",
      "Board : 0.38361728534356315\n",
      "Educational : 0.37233442400992894\n",
      "Education;Education : 0.33848584000902626\n",
      "Word : 0.25950581067358686\n",
      "Casual;Pretend Play : 0.2369400880063184\n",
      "Music : 0.20309150400541578\n",
      "Racing;Action & Adventure : 0.16924292000451313\n",
      "Puzzle;Brain Games : 0.16924292000451313\n",
      "Entertainment;Music & Video : 0.16924292000451313\n",
      "Casual;Brain Games : 0.1353943360036105\n",
      "Casual;Action & Adventure : 0.1353943360036105\n",
      "Arcade;Action & Adventure : 0.1241114746699763\n",
      "Action;Action & Adventure : 0.10154575200270789\n",
      "Educational;Pretend Play : 0.09026289066907367\n",
      "Simulation;Action & Adventure : 0.07898002933543948\n",
      "Parenting;Education : 0.07898002933543948\n",
      "Entertainment;Brain Games : 0.07898002933543948\n",
      "Board;Brain Games : 0.07898002933543948\n",
      "Parenting;Music & Video : 0.06769716800180525\n",
      "Educational;Brain Games : 0.06769716800180525\n",
      "Casual;Creativity : 0.06769716800180525\n",
      "Art & Design;Creativity : 0.06769716800180525\n",
      "Education;Pretend Play : 0.05641430666817105\n",
      "Role Playing;Pretend Play : 0.045131445334536835\n",
      "Education;Creativity : 0.045131445334536835\n",
      "Role Playing;Action & Adventure : 0.033848584000902626\n",
      "Puzzle;Action & Adventure : 0.033848584000902626\n",
      "Entertainment;Creativity : 0.033848584000902626\n",
      "Entertainment;Action & Adventure : 0.033848584000902626\n",
      "Educational;Creativity : 0.033848584000902626\n",
      "Educational;Action & Adventure : 0.033848584000902626\n",
      "Education;Music & Video : 0.033848584000902626\n",
      "Education;Brain Games : 0.033848584000902626\n",
      "Education;Action & Adventure : 0.033848584000902626\n",
      "Adventure;Action & Adventure : 0.033848584000902626\n",
      "Video Players & Editors;Music & Video : 0.022565722667268417\n",
      "Sports;Action & Adventure : 0.022565722667268417\n",
      "Simulation;Pretend Play : 0.022565722667268417\n",
      "Puzzle;Creativity : 0.022565722667268417\n",
      "Music;Music & Video : 0.022565722667268417\n",
      "Entertainment;Pretend Play : 0.022565722667268417\n",
      "Casual;Education : 0.022565722667268417\n",
      "Board;Action & Adventure : 0.022565722667268417\n",
      "Video Players & Editors;Creativity : 0.011282861333634209\n",
      "Trivia;Education : 0.011282861333634209\n",
      "Travel & Local;Action & Adventure : 0.011282861333634209\n",
      "Tools;Education : 0.011282861333634209\n",
      "Strategy;Education : 0.011282861333634209\n",
      "Strategy;Creativity : 0.011282861333634209\n",
      "Strategy;Action & Adventure : 0.011282861333634209\n",
      "Simulation;Education : 0.011282861333634209\n",
      "Role Playing;Brain Games : 0.011282861333634209\n",
      "Racing;Pretend Play : 0.011282861333634209\n",
      "Puzzle;Education : 0.011282861333634209\n",
      "Parenting;Brain Games : 0.011282861333634209\n",
      "Music & Audio;Music & Video : 0.011282861333634209\n",
      "Lifestyle;Pretend Play : 0.011282861333634209\n",
      "Lifestyle;Education : 0.011282861333634209\n",
      "Health & Fitness;Education : 0.011282861333634209\n",
      "Health & Fitness;Action & Adventure : 0.011282861333634209\n",
      "Entertainment;Education : 0.011282861333634209\n",
      "Communication;Creativity : 0.011282861333634209\n",
      "Comics;Creativity : 0.011282861333634209\n",
      "Casual;Music & Video : 0.011282861333634209\n",
      "Card;Action & Adventure : 0.011282861333634209\n",
      "Books & Reference;Education : 0.011282861333634209\n",
      "Art & Design;Pretend Play : 0.011282861333634209\n",
      "Art & Design;Action & Adventure : 0.011282861333634209\n",
      "Arcade;Pretend Play : 0.011282861333634209\n",
      "Adventure;Education : 0.011282861333634209\n"
     ]
    }
   ],
   "source": [
    "# Genres\n",
    "display_table(android_free, -4)"
   ]
  },
  {
   "cell_type": "markdown",
   "metadata": {},
   "source": [
    "The top category for the play store is \"Family\" followed by \"Game\", the genres are quite diverse for the apps.\n",
    "\n",
    "Looking at this data we again can't make a solid suggestion for an app profile, although we can recommend that we try to avoid the most saturated categories. Again just to bring up the point that these frequencies are for the number of apps, not the number of users. If we want to make profit from a free app then we are dependant on running ads which means we want to reach the greatest number of users.\n",
    "\n",
    "### Most Popular Apps by Genre on iOS\n",
    "\n",
    "To get an idea of which apps have the most users we can calculate the average number of installs for each app genre, both datasets have a column containing the number of installs for an app.\n",
    "\n",
    "To do this we will need to:\n",
    "* Isolate the apps of each genre\n",
    "* Sum the user ratings for the apps of the genre\n",
    "* Divide the sum by the number of apps belonging to that genre\n",
    "\n",
    "In the case of the iOS dataset there is no column for installs so we will use the user ratings instead."
   ]
  },
  {
   "cell_type": "code",
   "execution_count": 23,
   "metadata": {},
   "outputs": [
    {
     "name": "stdout",
     "output_type": "stream",
     "text": [
      "Social Networking : 71548.34905660378\n",
      "Photo & Video : 28441.54375\n",
      "Games : 22788.6696905016\n",
      "Music : 57326.530303030304\n",
      "Reference : 74942.11111111111\n",
      "Health & Fitness : 23298.015384615384\n",
      "Weather : 52279.892857142855\n",
      "Utilities : 18684.456790123455\n",
      "Travel : 28243.8\n",
      "Shopping : 26919.690476190477\n",
      "News : 21248.023255813954\n",
      "Navigation : 86090.33333333333\n",
      "Lifestyle : 16485.764705882353\n",
      "Entertainment : 14029.830708661417\n",
      "Food & Drink : 33333.92307692308\n",
      "Sports : 23008.898550724636\n",
      "Book : 39758.5\n",
      "Finance : 31467.944444444445\n",
      "Education : 7003.983050847458\n",
      "Productivity : 21028.410714285714\n",
      "Business : 7491.117647058823\n",
      "Catalogs : 4004.0\n",
      "Medical : 612.0\n"
     ]
    }
   ],
   "source": [
    "genres_ios = freq_table(ios_free, -5)\n",
    "\n",
    "for genre in genres_ios:\n",
    "    total = 0\n",
    "    len_genre = 0\n",
    "    for app in ios_free:\n",
    "        genre_app = app[-5]\n",
    "        if genre_app == genre:\n",
    "            num_ratings = float(app[5])\n",
    "            total += num_ratings\n",
    "            len_genre += 1\n",
    "    avg_ratings = total / len_genre\n",
    "    print(genre, \":\", avg_ratings)"
   ]
  },
  {
   "cell_type": "markdown",
   "metadata": {},
   "source": [
    "It appears navigation apps and social networking apps see the greatest number of reviews on the Apple app store. But it's possible that the results are being skewed by massively popular apps in the app store. For instance Google Maps, Waze, Facebook, Instagram, and Twitter."
   ]
  },
  {
   "cell_type": "code",
   "execution_count": 24,
   "metadata": {},
   "outputs": [
    {
     "name": "stdout",
     "output_type": "stream",
     "text": [
      "Waze - GPS Navigation, Maps & Real-time Traffic : 345046\n",
      "Google Maps - Navigation & Transit : 154911\n",
      "Geocaching® : 12811\n",
      "CoPilot GPS – Car Navigation & Offline Maps : 3582\n",
      "ImmobilienScout24: Real Estate Search in Germany : 187\n",
      "Railway Route Search : 5\n"
     ]
    }
   ],
   "source": [
    "for app in ios_free:\n",
    "    if app[-5] == 'Navigation':\n",
    "        print(app[1], ':', app[5])"
   ]
  },
  {
   "cell_type": "code",
   "execution_count": 25,
   "metadata": {},
   "outputs": [
    {
     "name": "stdout",
     "output_type": "stream",
     "text": [
      "Facebook : 2974676\n",
      "Pinterest : 1061624\n",
      "Skype for iPhone : 373519\n",
      "Messenger : 351466\n",
      "Tumblr : 334293\n",
      "WhatsApp Messenger : 287589\n",
      "Kik : 260965\n",
      "ooVoo – Free Video Call, Text and Voice : 177501\n",
      "TextNow - Unlimited Text + Calls : 164963\n",
      "Viber Messenger – Text & Call : 164249\n",
      "Followers - Social Analytics For Instagram : 112778\n",
      "MeetMe - Chat and Meet New People : 97072\n",
      "We Heart It - Fashion, wallpapers, quotes, tattoos : 90414\n",
      "InsTrack for Instagram - Analytics Plus More : 85535\n",
      "Tango - Free Video Call, Voice and Chat : 75412\n",
      "LinkedIn : 71856\n",
      "Match™ - #1 Dating App. : 60659\n",
      "Skype for iPad : 60163\n",
      "POF - Best Dating App for Conversations : 52642\n",
      "Timehop : 49510\n",
      "Find My Family, Friends & iPhone - Life360 Locator : 43877\n",
      "Whisper - Share, Express, Meet : 39819\n",
      "Hangouts : 36404\n",
      "LINE PLAY - Your Avatar World : 34677\n",
      "WeChat : 34584\n",
      "Badoo - Meet New People, Chat, Socialize. : 34428\n",
      "Followers + for Instagram - Follower Analytics : 28633\n",
      "GroupMe : 28260\n",
      "Marco Polo Video Walkie Talkie : 27662\n",
      "Miitomo : 23965\n",
      "SimSimi : 23530\n",
      "Grindr - Gay and same sex guys chat, meet and date : 23201\n",
      "Wishbone - Compare Anything : 20649\n",
      "imo video calls and chat : 18841\n",
      "After School - Funny Anonymous School News : 18482\n",
      "Quick Reposter - Repost, Regram and Reshare Photos : 17694\n",
      "Weibo HD : 16772\n",
      "Repost for Instagram : 15185\n",
      "Live.me – Live Video Chat & Make Friends Nearby : 14724\n",
      "Nextdoor : 14402\n",
      "Followers Analytics for Instagram - InstaReport : 13914\n",
      "YouNow: Live Stream Video Chat : 12079\n",
      "FollowMeter for Instagram - Followers Tracking : 11976\n",
      "LINE : 11437\n",
      "eHarmony™ Dating App - Meet Singles : 11124\n",
      "Discord - Chat for Gamers : 9152\n",
      "QQ : 9109\n",
      "Telegram Messenger : 7573\n",
      "Weibo : 7265\n",
      "Periscope - Live Video Streaming Around the World : 6062\n",
      "Chat for Whatsapp - iPad Version : 5060\n",
      "QQ HD : 5058\n",
      "Followers Analysis Tool For Instagram App Free : 4253\n",
      "live.ly - live video streaming : 4145\n",
      "Houseparty - Group Video Chat : 3991\n",
      "SOMA Messenger : 3232\n",
      "Monkey : 3060\n",
      "Down To Lunch : 2535\n",
      "Flinch - Video Chat Staring Contest : 2134\n",
      "Highrise - Your Avatar Community : 2011\n",
      "LOVOO - Dating Chat : 1985\n",
      "PlayStation®Messages : 1918\n",
      "BOO! - Video chat camera with filters & stickers : 1805\n",
      "Qzone : 1649\n",
      "Chatous - Chat with new people : 1609\n",
      "Kiwi - Q&A : 1538\n",
      "GhostCodes - a discovery app for Snapchat : 1313\n",
      "Jodel : 1193\n",
      "FireChat : 1037\n",
      "Google Duo - simple video calling : 1033\n",
      "Fiesta by Tango - Chat & Meet New People : 885\n",
      "Google Allo — smart messaging : 862\n",
      "Peach — share vividly : 727\n",
      "Hey! VINA - Where Women Meet New Friends : 719\n",
      "Battlefield™ Companion : 689\n",
      "All Devices for WhatsApp - Messenger for iPad : 682\n",
      "Chat for Pokemon Go - GoChat : 500\n",
      "IAmNaughty – Dating App to Meet New People Online : 463\n",
      "Qzone HD : 458\n",
      "Zenly - Locate your friends in realtime : 427\n",
      "League of Legends Friends : 420\n",
      "豆瓣 : 407\n",
      "Candid - Speak Your Mind Freely : 398\n",
      "知乎 : 397\n",
      "Selfeo : 366\n",
      "Fake-A-Location Free ™ : 354\n",
      "Popcorn Buzz - Free Group Calls : 281\n",
      "Fam — Group video calling for iMessage : 279\n",
      "QQ International : 274\n",
      "Ameba : 269\n",
      "SoundCloud Pulse: for creators : 240\n",
      "Tantan : 235\n",
      "Cougar Dating & Life Style App for Mature Women : 213\n",
      "Rawr Messenger - Dab your chat : 180\n",
      "WhenToPost: Best Time to Post Photos for Instagram : 158\n",
      "Inke—Broadcast an amazing life : 147\n",
      "Mustknow - anonymous video Q&A : 53\n",
      "CTFxCmoji : 39\n",
      "Lobi : 36\n",
      "Chain: Collaborate On MyVideo Story/Group Video : 35\n",
      "botman - Real time video chat : 7\n",
      "BestieBox : 0\n",
      "MATCH ON LINE chat : 0\n",
      "niconico ch : 0\n",
      "LINE BLOG : 0\n",
      "bit-tube - Live Stream Video Chat : 0\n"
     ]
    }
   ],
   "source": [
    "for app in ios_free:\n",
    "    if app[-5] == \"Social Networking\":\n",
    "        print(app[1], ':', app[5])"
   ]
  },
  {
   "cell_type": "markdown",
   "metadata": {},
   "source": [
    "As we can see, the massively popular apps in these categories are developed by the tech giants. It's probably safe to assume that this could be the case for most of the categories. A few massively popular apps skewing our overall results.\n",
    "\n",
    "Let's take a look at one of the categories unlikely to be dominated by one of these tech giants."
   ]
  },
  {
   "cell_type": "code",
   "execution_count": 26,
   "metadata": {},
   "outputs": [
    {
     "name": "stdout",
     "output_type": "stream",
     "text": [
      "Calorie Counter & Diet Tracker by MyFitnessPal : 507706\n",
      "Lose It! – Weight Loss Program and Calorie Counter : 373835\n",
      "Weight Watchers : 136833\n",
      "Sleep Cycle alarm clock : 104539\n",
      "Fitbit : 90496\n",
      "Period Tracker Lite : 53620\n",
      "Nike+ Training Club - Workouts & Fitness Plans : 33969\n",
      "Plant Nanny - Water Reminder with Cute Plants : 27421\n",
      "Sworkit - Custom Workouts for Exercise & Fitness : 16819\n",
      "Clue Period Tracker: Period & Ovulation Tracker : 13436\n",
      "Headspace : 12819\n",
      "Fooducate - Lose Weight, Eat Healthy,Get Motivated : 11875\n",
      "Runtastic Running, Jogging and Walking Tracker : 10298\n",
      "WebMD for iPad : 9142\n",
      "8fit - Workouts, meal plans and personal trainer : 8730\n",
      "Garmin Connect™ Mobile : 8341\n",
      "Record by Under Armour, connects with UA HealthBox : 7754\n",
      "Fitstar Personal Trainer : 7496\n",
      "My Cycles Period and Ovulation Tracker : 7469\n",
      "Seven - 7 Minute Workout Training Challenge : 6808\n",
      "RUNNING for weight loss: workout & meal plans : 6407\n",
      "Lifesum – Inspiring healthy lifestyle app : 5795\n",
      "Waterlogged - Daily Hydration Tracker : 5000\n",
      "J&J Official 7 Minute Workout : 4861\n",
      "Fitbod Workout Log: Strength Lifting Bodybuilding : 4668\n",
      "Runtastic Six Pack Abs Workout & Core Trainer : 4283\n",
      "Sweat: Kayla Itsines' Bikini Body Fitness Workouts : 3788\n",
      "Smart Alarm Clock : sleep cycle & snoring recorder : 3779\n",
      "My Challenge Tracker : 3682\n",
      "Charity Miles: Walking & Running Distance Tracker : 3115\n",
      "Ab & Core Sworkit - Free Workout Trainer : 2901\n",
      "Simple Habit : 2494\n",
      "Asana Rebel - Yoga Inspired Fitness : 2459\n",
      "Life Cycle - Track Your Time Automatically : 1760\n",
      "Freeletics Bodyweight - Workouts and Training : 1722\n",
      "Runtastic Results: Workout & Bodyweight Training : 1718\n",
      "My Water Balance: Daily Drink Tracker & Reminder : 1601\n",
      "Butt Sworkit - Free Workout Trainer to tone & lift : 960\n",
      "My Score Plus Weight Loss, Food & Exercise Tracker : 467\n",
      "Sleep Meister - Sleep Cycle Alarm Lite : 445\n",
      "Walk for a Dog : 412\n",
      "Quick Fit - 7 Minute Workout, Abs, and Yoga : 407\n",
      "Fit Girls Guide : 397\n",
      "Walking for Weight Loss: training plans, GPS, tips : 397\n",
      "Zen : 298\n",
      "Model My Diet - Women - Weight Loss Motivation : 236\n",
      "Runtastic Butt Workout & Booty Trainer Plans : 222\n",
      "Dot - A Period & Fertility Tracker : 142\n",
      "YAZIO – Calorie Counter & Nutrition Tracker : 115\n",
      "SmartFit - Wristband : 105\n",
      "Dr. Oz : 99\n",
      "Crane Connect : 94\n",
      "Morning Routine : Daily Habit Tracker : 40\n",
      "Wellbeyond Meditation for Kids : 36\n",
      "SenseSleep - Train Your Brain To Sleep Better : 22\n",
      "Snail Sleep-Dream Talk Recording : 19\n",
      "ameli, l'Assurance Maladie : 8\n",
      "VIBO RealMassager : 6\n",
      "FizzUp – Online Fitness Trainer : 5\n",
      "2Face Fitpack - Dein Trainingsprogramm mit persönlichem Ernährungsplan, Kalorienrechner und Trainingsplan : 0\n",
      "GYMONDO – Fitness Training für Zuhause : 0\n",
      "Superdrug : 0\n",
      "airweave sleep analysis : 0\n",
      "Sonia Tlev : 0\n",
      "Intuition Guidances : 0\n"
     ]
    }
   ],
   "source": [
    "for app in ios_free:\n",
    "    if app[-5] == \"Health & Fitness\":\n",
    "        print(app[1], ':', app[5])"
   ]
  },
  {
   "cell_type": "markdown",
   "metadata": {},
   "source": [
    "This niche shows some promise. While there are some hugely popular apps (MyFitnessPal, Nike Run Club) there are some other apps that are still largely popular and aren't developed by a massive company.\n",
    "\n",
    "Plant Nanny has 27,000+ reviews and it appears to be a water intake tracking app with some kind of gamification aspect. Other popular apps appear to be workout trackers. Perhaps an app that could do well in this niche would be a workout logger/tracker with some gamification aspect implemented.\n",
    "\n",
    "Now let's take a look at the Google Play Store.\n",
    "\n",
    "### Most Popular Apps by Genre on Google Play"
   ]
  },
  {
   "cell_type": "code",
   "execution_count": 27,
   "metadata": {},
   "outputs": [
    {
     "name": "stdout",
     "output_type": "stream",
     "text": [
      "1,000,000+ : 15.728308699086089\n",
      "100,000+ : 11.55365000564143\n",
      "10,000,000+ : 10.549475346947986\n",
      "10,000+ : 10.199706645605326\n",
      "1,000+ : 8.394448832223853\n",
      "100+ : 6.916393997517771\n",
      "5,000,000+ : 6.826131106848697\n",
      "500,000+ : 5.562450637481666\n",
      "50,000+ : 4.772650344127271\n",
      "5,000+ : 4.513144533453684\n",
      "10+ : 3.542818458761142\n",
      "500+ : 3.2494640640866526\n",
      "50,000,000+ : 2.3017037120613786\n",
      "100,000,000+ : 2.1324607920568655\n",
      "50+ : 1.9180864267178157\n",
      "5+ : 0.7898002933543946\n",
      "1+ : 0.5077287600135394\n",
      "500,000,000+ : 0.270788672007221\n",
      "1,000,000,000+ : 0.2256572266726842\n",
      "0+ : 0.045131445334536835\n"
     ]
    }
   ],
   "source": [
    "display_table(android_free, 5)"
   ]
  },
  {
   "cell_type": "markdown",
   "metadata": {},
   "source": [
    "Above we see the column with the install information for Google Play, you'll notice we don't actually get very granular information regarding the exact number of installations. An app with 100,000+ installs could have 100,000 installs or it could have 200,000. There's no way of knowing, but for our purpose this is totally fine. We don't actually need super precise information. We only want to find out which app genre attracts the highest number of users and we don't need perfect precision to get a picture of that.\n",
    "\n",
    "We can leave these numbers as they are but we will need to convert this column to a numerical column. To do that we have to first replace the punctuation and symbols."
   ]
  },
  {
   "cell_type": "code",
   "execution_count": 28,
   "metadata": {},
   "outputs": [
    {
     "name": "stdout",
     "output_type": "stream",
     "text": [
      "ART_AND_DESIGN : 1986335.0877192982\n",
      "AUTO_AND_VEHICLES : 647317.8170731707\n",
      "BEAUTY : 513151.88679245283\n",
      "BOOKS_AND_REFERENCE : 8767811.894736841\n",
      "BUSINESS : 1712290.1474201474\n",
      "COMICS : 817657.2727272727\n",
      "COMMUNICATION : 38456119.167247385\n",
      "DATING : 854028.8303030303\n",
      "EDUCATION : 1833495.145631068\n",
      "ENTERTAINMENT : 11640705.88235294\n",
      "EVENTS : 253542.22222222222\n",
      "FINANCE : 1387692.475609756\n",
      "FOOD_AND_DRINK : 1924897.7363636363\n",
      "HEALTH_AND_FITNESS : 4188821.9853479853\n",
      "HOUSE_AND_HOME : 1331540.5616438356\n",
      "LIBRARIES_AND_DEMO : 638503.734939759\n",
      "LIFESTYLE : 1437816.2687861272\n",
      "GAME : 15588015.603248259\n",
      "FAMILY : 3697848.1731343283\n",
      "MEDICAL : 120550.61980830671\n",
      "SOCIAL : 23253652.127118643\n",
      "SHOPPING : 7036877.311557789\n",
      "PHOTOGRAPHY : 17840110.40229885\n",
      "SPORTS : 3638640.1428571427\n",
      "TRAVEL_AND_LOCAL : 13984077.710144928\n",
      "TOOLS : 10801391.298666667\n",
      "PERSONALIZATION : 5201482.6122448975\n",
      "PRODUCTIVITY : 16787331.344927534\n",
      "PARENTING : 542603.6206896552\n",
      "WEATHER : 5074486.197183099\n",
      "VIDEO_PLAYERS : 24727872.452830188\n",
      "NEWS_AND_MAGAZINES : 9549178.467741935\n",
      "MAPS_AND_NAVIGATION : 4056941.7741935486\n"
     ]
    }
   ],
   "source": [
    "categories_android = freq_table(android_free, 1)\n",
    "\n",
    "for cat in categories_android:\n",
    "    total = 0\n",
    "    len_cat = 0\n",
    "    for app in android_free:\n",
    "        category_app = app[1]\n",
    "        if category_app == cat:\n",
    "            num_installs = app[5]\n",
    "            num_installs = num_installs.replace(',', '')\n",
    "            num_installs = num_installs.replace('+', '')\n",
    "            total += float(num_installs)\n",
    "            len_cat += 1\n",
    "    avg_num_installs = total / len_cat\n",
    "    print(cat, ':', avg_num_installs)"
   ]
  },
  {
   "cell_type": "markdown",
   "metadata": {},
   "source": [
    "Again it is probably wise to avoid categories that are likely to be saturated with apps developed by giant companies. For instance communication, some apps in this category have over a billion installations."
   ]
  },
  {
   "cell_type": "code",
   "execution_count": 29,
   "metadata": {},
   "outputs": [
    {
     "name": "stdout",
     "output_type": "stream",
     "text": [
      "WhatsApp Messenger : 1,000,000,000+\n",
      "imo beta free calls and text : 100,000,000+\n",
      "Android Messages : 100,000,000+\n",
      "Google Duo - High Quality Video Calls : 500,000,000+\n",
      "Messenger – Text and Video Chat for Free : 1,000,000,000+\n",
      "imo free video calls and chat : 500,000,000+\n",
      "Skype - free IM & video calls : 1,000,000,000+\n",
      "Who : 100,000,000+\n",
      "GO SMS Pro - Messenger, Free Themes, Emoji : 100,000,000+\n",
      "LINE: Free Calls & Messages : 500,000,000+\n",
      "Google Chrome: Fast & Secure : 1,000,000,000+\n",
      "Firefox Browser fast & private : 100,000,000+\n",
      "UC Browser - Fast Download Private & Secure : 500,000,000+\n",
      "Gmail : 1,000,000,000+\n",
      "Hangouts : 1,000,000,000+\n",
      "Messenger Lite: Free Calls & Messages : 100,000,000+\n",
      "Kik : 100,000,000+\n",
      "KakaoTalk: Free Calls & Text : 100,000,000+\n",
      "Opera Mini - fast web browser : 100,000,000+\n",
      "Opera Browser: Fast and Secure : 100,000,000+\n",
      "Telegram : 100,000,000+\n",
      "Truecaller: Caller ID, SMS spam blocking & Dialer : 100,000,000+\n",
      "UC Browser Mini -Tiny Fast Private & Secure : 100,000,000+\n",
      "Viber Messenger : 500,000,000+\n",
      "WeChat : 100,000,000+\n",
      "Yahoo Mail – Stay Organized : 100,000,000+\n",
      "BBM - Free Calls & Messages : 100,000,000+\n"
     ]
    }
   ],
   "source": [
    "for app in android_free:\n",
    "    if app[1] == 'COMMUNICATION' and (app[5] == '1,000,000,000+'\n",
    "                                      or app[5] == '500,000,000+'\n",
    "                                      or app[5] == '100,000,000+'):\n",
    "        print(app[0], ':', app[5])"
   ]
  },
  {
   "cell_type": "markdown",
   "metadata": {},
   "source": [
    "Not only do these categories seem more popular than they really are, they are dominated by a small number of giants, making them categories we should be trying to avoid when developing a new application.\n",
    "\n",
    "Let's explore the BOOKS_AND_REFERENCE category. As it appears to be a quite sizable one."
   ]
  },
  {
   "cell_type": "code",
   "execution_count": 30,
   "metadata": {},
   "outputs": [
    {
     "name": "stdout",
     "output_type": "stream",
     "text": [
      "E-Book Read - Read Book for free : 50,000+\n",
      "Download free book with green book : 100,000+\n",
      "Wikipedia : 10,000,000+\n",
      "Cool Reader : 10,000,000+\n",
      "Free Panda Radio Music : 100,000+\n",
      "Book store : 1,000,000+\n",
      "FBReader: Favorite Book Reader : 10,000,000+\n",
      "English Grammar Complete Handbook : 500,000+\n",
      "Free Books - Spirit Fanfiction and Stories : 1,000,000+\n",
      "Google Play Books : 1,000,000,000+\n",
      "AlReader -any text book reader : 5,000,000+\n",
      "Offline English Dictionary : 100,000+\n",
      "Offline: English to Tagalog Dictionary : 500,000+\n",
      "FamilySearch Tree : 1,000,000+\n",
      "Cloud of Books : 1,000,000+\n",
      "Recipes of Prophetic Medicine for free : 500,000+\n",
      "ReadEra – free ebook reader : 1,000,000+\n",
      "Anonymous caller detection : 10,000+\n",
      "Ebook Reader : 5,000,000+\n",
      "Litnet - E-books : 100,000+\n",
      "Read books online : 5,000,000+\n",
      "English to Urdu Dictionary : 500,000+\n",
      "eBoox: book reader fb2 epub zip : 1,000,000+\n",
      "English Persian Dictionary : 500,000+\n",
      "Flybook : 500,000+\n",
      "All Maths Formulas : 1,000,000+\n",
      "Ancestry : 5,000,000+\n",
      "HTC Help : 10,000,000+\n",
      "English translation from Bengali : 100,000+\n",
      "Pdf Book Download - Read Pdf Book : 100,000+\n",
      "Free Book Reader : 100,000+\n",
      "eBoox new: Reader for fb2 epub zip books : 50,000+\n",
      "Only 30 days in English, the guideline is guaranteed : 500,000+\n",
      "Moon+ Reader : 10,000,000+\n",
      "SH-02J Owner's Manual (Android 8.0) : 50,000+\n",
      "English-Myanmar Dictionary : 1,000,000+\n",
      "Golden Dictionary (EN-AR) : 1,000,000+\n",
      "All Language Translator Free : 1,000,000+\n",
      "Azpen eReader : 500,000+\n",
      "URBANO V 02 instruction manual : 100,000+\n",
      "Bible : 100,000,000+\n",
      "C Programs and Reference : 50,000+\n",
      "C Offline Tutorial : 1,000+\n",
      "C Programs Handbook : 50,000+\n",
      "Amazon Kindle : 100,000,000+\n",
      "Aab e Hayat Full Novel : 100,000+\n",
      "Aldiko Book Reader : 10,000,000+\n",
      "Google I/O 2018 : 500,000+\n",
      "R Language Reference Guide : 10,000+\n",
      "Learn R Programming Full : 5,000+\n",
      "R Programing Offline Tutorial : 1,000+\n",
      "Guide for R Programming : 5+\n",
      "Learn R Programming : 10+\n",
      "R Quick Reference Big Data : 1,000+\n",
      "V Made : 100,000+\n",
      "Wattpad 📖 Free Books : 100,000,000+\n",
      "Dictionary - WordWeb : 5,000,000+\n",
      "Guide (for X-MEN) : 100,000+\n",
      "AC Air condition Troubleshoot,Repair,Maintenance : 5,000+\n",
      "AE Bulletins : 1,000+\n",
      "Ae Allah na Dai (Rasa) : 10,000+\n",
      "50000 Free eBooks & Free AudioBooks : 5,000,000+\n",
      "Ag PhD Field Guide : 10,000+\n",
      "Ag PhD Deficiencies : 10,000+\n",
      "Ag PhD Planting Population Calculator : 1,000+\n",
      "Ag PhD Soybean Diseases : 1,000+\n",
      "Fertilizer Removal By Crop : 50,000+\n",
      "A-J Media Vault : 50+\n",
      "Al-Quran (Free) : 10,000,000+\n",
      "Al Quran (Tafsir & by Word) : 500,000+\n",
      "Al Quran Indonesia : 10,000,000+\n",
      "Al'Quran Bahasa Indonesia : 10,000,000+\n",
      "Al Quran Al karim : 1,000,000+\n",
      "Al-Muhaffiz : 50,000+\n",
      "Al Quran : EAlim - Translations & MP3 Offline : 5,000,000+\n",
      "Al-Quran 30 Juz free copies : 500,000+\n",
      "Koran Read &MP3 30 Juz Offline : 1,000,000+\n",
      "Hafizi Quran 15 lines per page : 1,000,000+\n",
      "Quran for Android : 10,000,000+\n",
      "Surah Al-Waqiah : 100,000+\n",
      "Hisnul Al Muslim - Hisn Invocations & Adhkaar : 100,000+\n",
      "Satellite AR : 1,000,000+\n",
      "Audiobooks from Audible : 100,000,000+\n",
      "Kinot & Eichah for Tisha B'Av : 10,000+\n",
      "AW Tozer Devotionals - Daily : 5,000+\n",
      "Tozer Devotional -Series 1 : 1,000+\n",
      "The Pursuit of God : 1,000+\n",
      "AY Sing : 5,000+\n",
      "Ay Hasnain k Nana Milad Naat : 10,000+\n",
      "Ay Mohabbat Teri Khatir Novel : 10,000+\n",
      "Arizona Statutes, ARS (AZ Law) : 1,000+\n",
      "Oxford A-Z of English Usage : 1,000,000+\n",
      "BD Fishpedia : 1,000+\n",
      "BD All Sim Offer : 10,000+\n",
      "Youboox - Livres, BD et magazines : 500,000+\n",
      "B&H Kids AR : 10,000+\n",
      "B y H Niños ES : 5,000+\n",
      "Dictionary.com: Find Definitions for English Words : 10,000,000+\n",
      "English Dictionary - Offline : 10,000,000+\n",
      "Bible KJV : 5,000,000+\n",
      "Borneo Bible, BM Bible : 10,000+\n",
      "MOD Black for BM : 100+\n",
      "BM Box : 1,000+\n",
      "Anime Mod for BM : 100+\n",
      "NOOK: Read eBooks & Magazines : 10,000,000+\n",
      "NOOK Audiobooks : 500,000+\n",
      "NOOK App for NOOK Devices : 500,000+\n",
      "Browsery by Barnes & Noble : 5,000+\n",
      "bp e-store : 1,000+\n",
      "Brilliant Quotes: Life, Love, Family & Motivation : 1,000,000+\n",
      "BR Ambedkar Biography & Quotes : 10,000+\n",
      "BU Alsace : 100+\n",
      "Catholic La Bu Zo Kam : 500+\n",
      "Khrifa Hla Bu (Solfa) : 10+\n",
      "Kristian Hla Bu : 10,000+\n",
      "SA HLA BU : 1,000+\n",
      "Learn SAP BW : 500+\n",
      "Learn SAP BW on HANA : 500+\n",
      "CA Laws 2018 (California Laws and Codes) : 5,000+\n",
      "Bootable Methods(USB-CD-DVD) : 10,000+\n",
      "cloudLibrary : 100,000+\n",
      "SDA Collegiate Quarterly : 500+\n",
      "Sabbath School : 100,000+\n",
      "Cypress College Library : 100+\n",
      "Stats Royale for Clash Royale : 1,000,000+\n",
      "GATE 21 years CS Papers(2011-2018 Solved) : 50+\n",
      "Learn CT Scan Of Head : 5,000+\n",
      "Easy Cv maker 2018 : 10,000+\n",
      "How to Write CV : 100,000+\n",
      "CW Nuclear : 1,000+\n",
      "CY Spray nozzle : 10+\n",
      "BibleRead En Cy Zh Yue : 5+\n",
      "CZ-Help : 5+\n",
      "Modlitební knížka CZ : 500+\n",
      "Guide for DB Xenoverse : 10,000+\n",
      "Guide for DB Xenoverse 2 : 10,000+\n",
      "Guide for IMS DB : 10+\n",
      "DC HSEMA : 5,000+\n",
      "DC Public Library : 1,000+\n",
      "Painting Lulu DC Super Friends : 1,000+\n",
      "Dictionary : 10,000,000+\n",
      "Fix Error Google Playstore : 1,000+\n",
      "D. H. Lawrence Poems FREE : 1,000+\n",
      "Bilingual Dictionary Audio App : 5,000+\n",
      "DM Screen : 10,000+\n",
      "wikiHow: how to do anything : 1,000,000+\n",
      "Dr. Doug's Tips : 1,000+\n",
      "Bible du Semeur-BDS (French) : 50,000+\n",
      "La citadelle du musulman : 50,000+\n",
      "DV 2019 Entry Guide : 10,000+\n",
      "DV 2019 - EDV Photo & Form : 50,000+\n",
      "DV 2018 Winners Guide : 1,000+\n",
      "EB Annual Meetings : 1,000+\n",
      "EC - AP & Telangana : 5,000+\n",
      "TN Patta Citta & EC : 10,000+\n",
      "AP Stamps and Registration : 10,000+\n",
      "CompactiMa EC pH Calibration : 100+\n",
      "EGW Writings 2 : 100,000+\n",
      "EGW Writings : 1,000,000+\n",
      "Bible with EGW Comments : 100,000+\n",
      "My Little Pony AR Guide : 1,000,000+\n",
      "SDA Sabbath School Quarterly : 500,000+\n",
      "Duaa Ek Ibaadat : 5,000+\n",
      "Spanish English Translator : 10,000,000+\n",
      "Dictionary - Merriam-Webster : 10,000,000+\n",
      "JW Library : 10,000,000+\n",
      "Oxford Dictionary of English : Free : 10,000,000+\n",
      "English Hindi Dictionary : 10,000,000+\n",
      "English to Hindi Dictionary : 5,000,000+\n",
      "EP Research Service : 1,000+\n",
      "Hymnes et Louanges : 100,000+\n",
      "EU Charter : 1,000+\n",
      "EU Data Protection : 1,000+\n",
      "EU IP Codes : 100+\n",
      "EW PDF : 5+\n",
      "BakaReader EX : 100,000+\n",
      "EZ Quran : 50,000+\n",
      "FA Part 1 & 2 Past Papers Solved Free – Offline : 5,000+\n",
      "La Fe de Jesus : 1,000+\n",
      "La Fe de Jesús : 500+\n",
      "Le Fe de Jesus : 500+\n",
      "Florida - Pocket Brainbook : 1,000+\n",
      "Florida Statutes (FL Code) : 1,000+\n",
      "English To Shona Dictionary : 10,000+\n",
      "Greek Bible FP (Audio) : 1,000+\n",
      "Golden Dictionary (FR-AR) : 500,000+\n",
      "Fanfic-FR : 5,000+\n",
      "Bulgarian French Dictionary Fr : 10,000+\n",
      "Chemin (fr) : 1,000+\n",
      "The SCP Foundation DB fr nn5n : 1,000+\n"
     ]
    }
   ],
   "source": [
    "for app in android_free:\n",
    "    if app[1] == 'BOOKS_AND_REFERENCE':\n",
    "        print(app[0], ':', app[5])"
   ]
  },
  {
   "cell_type": "markdown",
   "metadata": {},
   "source": [
    "Again we see some applications that see an overwhelmingly large amount of installations that are skweing the average."
   ]
  },
  {
   "cell_type": "code",
   "execution_count": 31,
   "metadata": {},
   "outputs": [
    {
     "name": "stdout",
     "output_type": "stream",
     "text": [
      "Google Play Books : 1,000,000,000+\n",
      "Bible : 100,000,000+\n",
      "Amazon Kindle : 100,000,000+\n",
      "Wattpad 📖 Free Books : 100,000,000+\n",
      "Audiobooks from Audible : 100,000,000+\n"
     ]
    }
   ],
   "source": [
    "for app in android_free:\n",
    "    if app[1] == 'BOOKS_AND_REFERENCE' and (app[5] == '1,000,000,000+'\n",
    "                                            or app[5] == '500,000,000+'\n",
    "                                            or app[5] == '100,000,000+'):\n",
    "        print(app[0], ':', app[5])"
   ]
  },
  {
   "cell_type": "markdown",
   "metadata": {},
   "source": [
    "Let's ignore these and see what apps are performing well in the range of 1M+ installs to 100M."
   ]
  },
  {
   "cell_type": "code",
   "execution_count": 32,
   "metadata": {},
   "outputs": [
    {
     "name": "stdout",
     "output_type": "stream",
     "text": [
      "Wikipedia : 10,000,000+\n",
      "Cool Reader : 10,000,000+\n",
      "Book store : 1,000,000+\n",
      "FBReader: Favorite Book Reader : 10,000,000+\n",
      "Free Books - Spirit Fanfiction and Stories : 1,000,000+\n",
      "AlReader -any text book reader : 5,000,000+\n",
      "FamilySearch Tree : 1,000,000+\n",
      "Cloud of Books : 1,000,000+\n",
      "ReadEra – free ebook reader : 1,000,000+\n",
      "Ebook Reader : 5,000,000+\n",
      "Read books online : 5,000,000+\n",
      "eBoox: book reader fb2 epub zip : 1,000,000+\n",
      "All Maths Formulas : 1,000,000+\n",
      "Ancestry : 5,000,000+\n",
      "HTC Help : 10,000,000+\n",
      "Moon+ Reader : 10,000,000+\n",
      "English-Myanmar Dictionary : 1,000,000+\n",
      "Golden Dictionary (EN-AR) : 1,000,000+\n",
      "All Language Translator Free : 1,000,000+\n",
      "Aldiko Book Reader : 10,000,000+\n",
      "Dictionary - WordWeb : 5,000,000+\n",
      "50000 Free eBooks & Free AudioBooks : 5,000,000+\n",
      "Al-Quran (Free) : 10,000,000+\n",
      "Al Quran Indonesia : 10,000,000+\n",
      "Al'Quran Bahasa Indonesia : 10,000,000+\n",
      "Al Quran Al karim : 1,000,000+\n",
      "Al Quran : EAlim - Translations & MP3 Offline : 5,000,000+\n",
      "Koran Read &MP3 30 Juz Offline : 1,000,000+\n",
      "Hafizi Quran 15 lines per page : 1,000,000+\n",
      "Quran for Android : 10,000,000+\n",
      "Satellite AR : 1,000,000+\n",
      "Oxford A-Z of English Usage : 1,000,000+\n",
      "Dictionary.com: Find Definitions for English Words : 10,000,000+\n",
      "English Dictionary - Offline : 10,000,000+\n",
      "Bible KJV : 5,000,000+\n",
      "NOOK: Read eBooks & Magazines : 10,000,000+\n",
      "Brilliant Quotes: Life, Love, Family & Motivation : 1,000,000+\n",
      "Stats Royale for Clash Royale : 1,000,000+\n",
      "Dictionary : 10,000,000+\n",
      "wikiHow: how to do anything : 1,000,000+\n",
      "EGW Writings : 1,000,000+\n",
      "My Little Pony AR Guide : 1,000,000+\n",
      "Spanish English Translator : 10,000,000+\n",
      "Dictionary - Merriam-Webster : 10,000,000+\n",
      "JW Library : 10,000,000+\n",
      "Oxford Dictionary of English : Free : 10,000,000+\n",
      "English Hindi Dictionary : 10,000,000+\n",
      "English to Hindi Dictionary : 5,000,000+\n"
     ]
    }
   ],
   "source": [
    "for app in android_free:\n",
    "    if app[1] == 'BOOKS_AND_REFERENCE' and (app[5] == '1,000,000+'\n",
    "                                            or app[5] == '5,000,000+'\n",
    "                                            or app[5] == '10,000,000+'\n",
    "                                            or app[5] == '50,000,000+'):\n",
    "        print(app[0], ':', app[5])"
   ]
  },
  {
   "cell_type": "markdown",
   "metadata": {},
   "source": [
    "We see that a majority of the apps in this segment are e-readers e-book apps and services. So we probably don't want to be competing by creating a similar app.\n",
    "\n",
    "Other applications that see some popularity within this category are Dictionaries, Game Guides, and Religious books turned to an app.\n",
    "\n",
    "Perhaps a good niche we could fall in is creating and digitizing some kind of reference material for something popular."
   ]
  },
  {
   "cell_type": "markdown",
   "metadata": {},
   "source": [
    "## Conclusion\n",
    "\n",
    "In this project we analyzed different app profiles in the Apple App Store and the Google Play Store to determine what kinds of applications are most frequent and most popular.\n",
    "\n",
    "We also came to the conclusion that some profitable app ideas could be creating a gamified workout tracker or a digitized reference book/guide book for something popular."
   ]
  }
 ],
 "metadata": {
  "kernelspec": {
   "display_name": "Python 3",
   "language": "python",
   "name": "python3"
  },
  "language_info": {
   "codemirror_mode": {
    "name": "ipython",
    "version": 3
   },
   "file_extension": ".py",
   "mimetype": "text/x-python",
   "name": "python",
   "nbconvert_exporter": "python",
   "pygments_lexer": "ipython3",
   "version": "3.7.6"
  }
 },
 "nbformat": 4,
 "nbformat_minor": 2
}
